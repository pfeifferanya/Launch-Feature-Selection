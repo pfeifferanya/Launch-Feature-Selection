{
  "nbformat": 4,
  "nbformat_minor": 0,
  "metadata": {
    "colab": {
      "name": "ANOVATestCode.ipynb",
      "version": "0.3.2",
      "provenance": []
    },
    "kernelspec": {
      "name": "python3",
      "display_name": "Python 3"
    }
  },
  "cells": [
    {
      "cell_type": "markdown",
      "metadata": {
        "id": "r7rbKs4JUefZ",
        "colab_type": "text"
      },
      "source": [
        "# One-Way ANOVA Test"
      ]
    },
    {
      "cell_type": "markdown",
      "metadata": {
        "id": "PzOzkUENUkai",
        "colab_type": "text"
      },
      "source": [
        "**To check effect of age group on spending score**\n"
      ]
    },
    {
      "cell_type": "markdown",
      "metadata": {
        "id": "R_8zEuTFU2XA",
        "colab_type": "text"
      },
      "source": [
        "   \n",
        "     **Age Group Sample 1: 18-35**\n",
        "     **Age Group Sample 2: 35-52** "
      ]
    },
    {
      "cell_type": "markdown",
      "metadata": {
        "id": "ozPHKwhDKKBq",
        "colab_type": "text"
      },
      "source": [
        "**Imports**"
      ]
    },
    {
      "cell_type": "code",
      "metadata": {
        "id": "MdUC04ibJ4xT",
        "colab_type": "code",
        "colab": {}
      },
      "source": [
        "import seaborn as sns \n",
        "import numpy as np\n",
        "import pandas as pd\n",
        "import matplotlib.pyplot as plt\n",
        "import scipy as sp\n",
        "from scipy import stats\n"
      ],
      "execution_count": 0,
      "outputs": []
    },
    {
      "cell_type": "markdown",
      "metadata": {
        "id": "3TQstXHSKTKc",
        "colab_type": "text"
      },
      "source": [
        "**Uploading Dataset**"
      ]
    },
    {
      "cell_type": "code",
      "metadata": {
        "id": "2VC_vDChKZBU",
        "colab_type": "code",
        "outputId": "ccb62c50-1005-448a-ee6b-ebbca5de4ed7",
        "colab": {
          "resources": {
            "http://localhost:8080/nbextensions/google.colab/files.js": {
              "data": "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",
              "ok": true,
              "headers": [
                [
                  "content-type",
                  "application/javascript"
                ]
              ],
              "status": 200,
              "status_text": ""
            }
          },
          "base_uri": "https://localhost:8080/",
          "height": 37
        }
      },
      "source": [
        "from google.colab import files\n",
        "uploaded = files.upload()\n"
      ],
      "execution_count": 0,
      "outputs": [
        {
          "output_type": "display_data",
          "data": {
            "text/html": [
              "\n",
              "     <input type=\"file\" id=\"files-1f6c2321-2869-45e1-824e-d349ac12da14\" name=\"files[]\" multiple disabled />\n",
              "     <output id=\"result-1f6c2321-2869-45e1-824e-d349ac12da14\">\n",
              "      Upload widget is only available when the cell has been executed in the\n",
              "      current browser session. Please rerun this cell to enable.\n",
              "      </output>\n",
              "      <script src=\"/nbextensions/google.colab/files.js\"></script> "
            ],
            "text/plain": [
              "<IPython.core.display.HTML object>"
            ]
          },
          "metadata": {
            "tags": []
          }
        }
      ]
    },
    {
      "cell_type": "markdown",
      "metadata": {
        "id": "sn0tOVyDLKp7",
        "colab_type": "text"
      },
      "source": [
        "**Making Dataset**"
      ]
    },
    {
      "cell_type": "code",
      "metadata": {
        "id": "Rsh7r52wLK-F",
        "colab_type": "code",
        "outputId": "c8a88a52-9700-43ee-e0c0-ef029446efc2",
        "colab": {
          "base_uri": "https://localhost:8080/",
          "height": 119
        }
      },
      "source": [
        "mallData = pd.read_csv('Mall_Customers.csv')\n",
        "mallData.columns\n",
        "mallData.dtypes"
      ],
      "execution_count": 0,
      "outputs": [
        {
          "output_type": "execute_result",
          "data": {
            "text/plain": [
              "CustomerID                 int64\n",
              "Gender                    object\n",
              "Age                        int64\n",
              "Annual Income (k$)         int64\n",
              "Spending Score (1-100)     int64\n",
              "dtype: object"
            ]
          },
          "metadata": {
            "tags": []
          },
          "execution_count": 14
        }
      ]
    },
    {
      "cell_type": "markdown",
      "metadata": {
        "id": "4wI67eFDK1vO",
        "colab_type": "text"
      },
      "source": [
        "**Sampling Data**"
      ]
    },
    {
      "cell_type": "code",
      "metadata": {
        "id": "bS_IIMEWK6Ji",
        "colab_type": "code",
        "outputId": "0ee791ab-642a-4dcc-ea60-a59502a73905",
        "colab": {
          "base_uri": "https://localhost:8080/",
          "height": 102
        }
      },
      "source": [
        "maleMallData = pd.DataFrame()\n",
        "femaleMallData = pd.DataFrame()\n",
        "\n",
        "maleMallData = mallData.loc[mallData['Gender'] == 'Male']\n",
        "maleMallData.columns\n",
        "maleMallData.shape\n",
        "maleMallData['Age'].describe()\n",
        "maleMallData.drop(['CustomerID','Annual Income (k$)'], axis=1)\n",
        "\n",
        "femaleMallData = mallData.loc[mallData['Gender'] == 'Female']\n",
        "femaleMallData = femaleMallData.iloc[:88]\n",
        "femaleMallData.columns\n",
        "femaleMallData.shape\n",
        "femaleMallData.drop(['CustomerID','Annual Income (k$)'], axis=1)\n",
        "\n",
        "\"adding age range column\"\n",
        "ageRangeList = []\n",
        "ageRangeListFemale = []\n",
        "\n",
        "for row in maleMallData['Age']:\n",
        "    if (row >= 18) and (row < 35):\n",
        "        ageRangeList.append(0)\n",
        "    elif(row >= 35) and (row < 52):\n",
        "        ageRangeList.append(1)\n",
        "    elif(row >= 52) and (row <= 70):\n",
        "        ageRangeList.append(2)\n",
        "        \n",
        "for row in femaleMallData['Age']:\n",
        "    if (row >= 18) and (row < 35):\n",
        "        ageRangeListFemale.append(0)\n",
        "    elif(row >= 35) and (row < 52):\n",
        "        ageRangeListFemale.append(1)\n",
        "    elif(row >= 52) and (row <= 70):\n",
        "        ageRangeListFemale.append(2)\n",
        "        \n",
        "maleMallData['AgeRange'] = np.array(ageRangeList)\n",
        "femaleMallData['AgeRange'] = np.array(ageRangeListFemale)\n",
        "maleMallData.dtypes\n",
        "femaleMallData.dtypes\n",
        "maleMallData.columns = ['CustomerID', 'Gender','Age', 'AnnualIncome', 'SpendingScore', 'AgeRange']\n",
        "femaleMallData.columns = ['CustomerID', 'Gender','Age', 'AnnualIncome', 'SpendingScore', 'AgeRange']\n",
        "\n",
        "\n",
        "\"splitting male and female dataframes into seperate age groups\" \n",
        "femaleMallData18to35 = femaleMallData.loc[femaleMallData['AgeRange'] == 0]\n",
        "femaleMallData18to35.shape\n",
        "\n",
        "femaleMallData35to52 = femaleMallData.loc[femaleMallData['AgeRange'] == 1]\n",
        "femaleMallData35to52.shape\n",
        "\n",
        "femaleMallData52to70 = femaleMallData.loc[femaleMallData['AgeRange'] == 2]\n",
        "femaleMallData52to70.shape\n",
        "\n",
        "maleMallData18to35 = maleMallData.loc[maleMallData['AgeRange'] == 0]\n",
        "maleMallData18to35.shape\n",
        "\n",
        "maleMallData35to52 = maleMallData.loc[maleMallData['AgeRange'] == 1]\n",
        "maleMallData35to52.shape\n",
        "\n",
        "maleMallData52to70 = maleMallData.loc[maleMallData['AgeRange'] == 2]\n",
        "maleMallData52to70.shape\n",
        "\n",
        "\"Combining them to make two different data samples based on age group\"\n",
        "frames18to35 = [femaleMallData18to35, maleMallData18to35]\n",
        "frames35to52 = [femaleMallData35to52, maleMallData35to52]\n",
        "\n",
        "sample18to35 = pd.concat(frames18to35)\n",
        "sample35to52 = pd.concat(frames35to52)\n"
      ],
      "execution_count": 0,
      "outputs": [
        {
          "output_type": "stream",
          "text": [
            "/usr/local/lib/python3.6/dist-packages/ipykernel_launcher.py:36: SettingWithCopyWarning: \n",
            "A value is trying to be set on a copy of a slice from a DataFrame.\n",
            "Try using .loc[row_indexer,col_indexer] = value instead\n",
            "\n",
            "See the caveats in the documentation: http://pandas.pydata.org/pandas-docs/stable/indexing.html#indexing-view-versus-copy\n"
          ],
          "name": "stderr"
        }
      ]
    },
    {
      "cell_type": "markdown",
      "metadata": {
        "id": "xy-YnHEGLqgL",
        "colab_type": "text"
      },
      "source": [
        "**Data Exploration**"
      ]
    },
    {
      "cell_type": "code",
      "metadata": {
        "id": "_s7hvU2eLqqV",
        "colab_type": "code",
        "outputId": "d6be9241-de4d-4a1b-c0a8-607e69ab80e0",
        "colab": {
          "base_uri": "https://localhost:8080/",
          "height": 297
        }
      },
      "source": [
        "sample18to35.describe()"
      ],
      "execution_count": 0,
      "outputs": [
        {
          "output_type": "execute_result",
          "data": {
            "text/html": [
              "<div>\n",
              "<style scoped>\n",
              "    .dataframe tbody tr th:only-of-type {\n",
              "        vertical-align: middle;\n",
              "    }\n",
              "\n",
              "    .dataframe tbody tr th {\n",
              "        vertical-align: top;\n",
              "    }\n",
              "\n",
              "    .dataframe thead th {\n",
              "        text-align: right;\n",
              "    }\n",
              "</style>\n",
              "<table border=\"1\" class=\"dataframe\">\n",
              "  <thead>\n",
              "    <tr style=\"text-align: right;\">\n",
              "      <th></th>\n",
              "      <th>CustomerID</th>\n",
              "      <th>Age</th>\n",
              "      <th>AnnualIncome</th>\n",
              "      <th>SpendingScore</th>\n",
              "      <th>AgeRange</th>\n",
              "    </tr>\n",
              "  </thead>\n",
              "  <tbody>\n",
              "    <tr>\n",
              "      <th>count</th>\n",
              "      <td>78.000000</td>\n",
              "      <td>78.000000</td>\n",
              "      <td>78.000000</td>\n",
              "      <td>78.000000</td>\n",
              "      <td>78.0</td>\n",
              "    </tr>\n",
              "    <tr>\n",
              "      <th>mean</th>\n",
              "      <td>91.089744</td>\n",
              "      <td>25.858974</td>\n",
              "      <td>56.871795</td>\n",
              "      <td>57.910256</td>\n",
              "      <td>0.0</td>\n",
              "    </tr>\n",
              "    <tr>\n",
              "      <th>std</th>\n",
              "      <td>58.525205</td>\n",
              "      <td>5.143965</td>\n",
              "      <td>27.921206</td>\n",
              "      <td>24.136078</td>\n",
              "      <td>0.0</td>\n",
              "    </tr>\n",
              "    <tr>\n",
              "      <th>min</th>\n",
              "      <td>1.000000</td>\n",
              "      <td>18.000000</td>\n",
              "      <td>15.000000</td>\n",
              "      <td>1.000000</td>\n",
              "      <td>0.0</td>\n",
              "    </tr>\n",
              "    <tr>\n",
              "      <th>25%</th>\n",
              "      <td>40.500000</td>\n",
              "      <td>21.000000</td>\n",
              "      <td>37.250000</td>\n",
              "      <td>43.000000</td>\n",
              "      <td>0.0</td>\n",
              "    </tr>\n",
              "    <tr>\n",
              "      <th>50%</th>\n",
              "      <td>93.500000</td>\n",
              "      <td>26.000000</td>\n",
              "      <td>59.500000</td>\n",
              "      <td>59.000000</td>\n",
              "      <td>0.0</td>\n",
              "    </tr>\n",
              "    <tr>\n",
              "      <th>75%</th>\n",
              "      <td>138.750000</td>\n",
              "      <td>31.000000</td>\n",
              "      <td>73.750000</td>\n",
              "      <td>75.000000</td>\n",
              "      <td>0.0</td>\n",
              "    </tr>\n",
              "    <tr>\n",
              "      <th>max</th>\n",
              "      <td>200.000000</td>\n",
              "      <td>34.000000</td>\n",
              "      <td>137.000000</td>\n",
              "      <td>97.000000</td>\n",
              "      <td>0.0</td>\n",
              "    </tr>\n",
              "  </tbody>\n",
              "</table>\n",
              "</div>"
            ],
            "text/plain": [
              "       CustomerID        Age  AnnualIncome  SpendingScore  AgeRange\n",
              "count   78.000000  78.000000     78.000000      78.000000      78.0\n",
              "mean    91.089744  25.858974     56.871795      57.910256       0.0\n",
              "std     58.525205   5.143965     27.921206      24.136078       0.0\n",
              "min      1.000000  18.000000     15.000000       1.000000       0.0\n",
              "25%     40.500000  21.000000     37.250000      43.000000       0.0\n",
              "50%     93.500000  26.000000     59.500000      59.000000       0.0\n",
              "75%    138.750000  31.000000     73.750000      75.000000       0.0\n",
              "max    200.000000  34.000000    137.000000      97.000000       0.0"
            ]
          },
          "metadata": {
            "tags": []
          },
          "execution_count": 30
        }
      ]
    },
    {
      "cell_type": "code",
      "metadata": {
        "id": "0dcK9aejL1fU",
        "colab_type": "code",
        "outputId": "206dc224-613f-4ef6-d292-3002aac1fcac",
        "colab": {
          "base_uri": "https://localhost:8080/",
          "height": 297
        }
      },
      "source": [
        "sample35to52.describe()"
      ],
      "execution_count": 0,
      "outputs": [
        {
          "output_type": "execute_result",
          "data": {
            "text/html": [
              "<div>\n",
              "<style scoped>\n",
              "    .dataframe tbody tr th:only-of-type {\n",
              "        vertical-align: middle;\n",
              "    }\n",
              "\n",
              "    .dataframe tbody tr th {\n",
              "        vertical-align: top;\n",
              "    }\n",
              "\n",
              "    .dataframe thead th {\n",
              "        text-align: right;\n",
              "    }\n",
              "</style>\n",
              "<table border=\"1\" class=\"dataframe\">\n",
              "  <thead>\n",
              "    <tr style=\"text-align: right;\">\n",
              "      <th></th>\n",
              "      <th>CustomerID</th>\n",
              "      <th>Age</th>\n",
              "      <th>AnnualIncome</th>\n",
              "      <th>SpendingScore</th>\n",
              "      <th>AgeRange</th>\n",
              "    </tr>\n",
              "  </thead>\n",
              "  <tbody>\n",
              "    <tr>\n",
              "      <th>count</th>\n",
              "      <td>63.000000</td>\n",
              "      <td>63.000000</td>\n",
              "      <td>63.000000</td>\n",
              "      <td>63.000000</td>\n",
              "      <td>63.0</td>\n",
              "    </tr>\n",
              "    <tr>\n",
              "      <th>mean</th>\n",
              "      <td>95.492063</td>\n",
              "      <td>42.984127</td>\n",
              "      <td>57.317460</td>\n",
              "      <td>43.888889</td>\n",
              "      <td>1.0</td>\n",
              "    </tr>\n",
              "    <tr>\n",
              "      <th>std</th>\n",
              "      <td>51.496593</td>\n",
              "      <td>5.428396</td>\n",
              "      <td>21.042833</td>\n",
              "      <td>25.291916</td>\n",
              "      <td>0.0</td>\n",
              "    </tr>\n",
              "    <tr>\n",
              "      <th>min</th>\n",
              "      <td>7.000000</td>\n",
              "      <td>35.000000</td>\n",
              "      <td>18.000000</td>\n",
              "      <td>1.000000</td>\n",
              "      <td>1.0</td>\n",
              "    </tr>\n",
              "    <tr>\n",
              "      <th>25%</th>\n",
              "      <td>49.000000</td>\n",
              "      <td>38.000000</td>\n",
              "      <td>41.000000</td>\n",
              "      <td>26.000000</td>\n",
              "      <td>1.0</td>\n",
              "    </tr>\n",
              "    <tr>\n",
              "      <th>50%</th>\n",
              "      <td>97.000000</td>\n",
              "      <td>43.000000</td>\n",
              "      <td>60.000000</td>\n",
              "      <td>42.000000</td>\n",
              "      <td>1.0</td>\n",
              "    </tr>\n",
              "    <tr>\n",
              "      <th>75%</th>\n",
              "      <td>134.500000</td>\n",
              "      <td>48.000000</td>\n",
              "      <td>72.000000</td>\n",
              "      <td>55.500000</td>\n",
              "      <td>1.0</td>\n",
              "    </tr>\n",
              "    <tr>\n",
              "      <th>max</th>\n",
              "      <td>183.000000</td>\n",
              "      <td>51.000000</td>\n",
              "      <td>98.000000</td>\n",
              "      <td>99.000000</td>\n",
              "      <td>1.0</td>\n",
              "    </tr>\n",
              "  </tbody>\n",
              "</table>\n",
              "</div>"
            ],
            "text/plain": [
              "       CustomerID        Age  AnnualIncome  SpendingScore  AgeRange\n",
              "count   63.000000  63.000000     63.000000      63.000000      63.0\n",
              "mean    95.492063  42.984127     57.317460      43.888889       1.0\n",
              "std     51.496593   5.428396     21.042833      25.291916       0.0\n",
              "min      7.000000  35.000000     18.000000       1.000000       1.0\n",
              "25%     49.000000  38.000000     41.000000      26.000000       1.0\n",
              "50%     97.000000  43.000000     60.000000      42.000000       1.0\n",
              "75%    134.500000  48.000000     72.000000      55.500000       1.0\n",
              "max    183.000000  51.000000     98.000000      99.000000       1.0"
            ]
          },
          "metadata": {
            "tags": []
          },
          "execution_count": 31
        }
      ]
    },
    {
      "cell_type": "code",
      "metadata": {
        "id": "FnSVkeqPL83f",
        "colab_type": "code",
        "outputId": "8cd27c44-8952-4536-8f7e-152b75394d89",
        "colab": {
          "base_uri": "https://localhost:8080/",
          "height": 312
        }
      },
      "source": [
        "Sample1_2DistPlot = sns.distplot(sample18to35['SpendingScore'], label='Sample 18-35', hist=False, kde = True, color = 'blue', kde_kws={'shade': True, 'linewidth': 4})\n",
        "Sample1_2DistPlot = sns.distplot(sample35to52['SpendingScore'], label='Sample 35-52',hist=False, kde = True, color = 'red', kde_kws={'shade': True, 'linewidth': 4})\n",
        "Sample1_2DistPlot.set_title('Distribution for Sample 18-35 and 35-52')\n",
        "Sample1_2DistPlot.axvline(57.910256, color='blue')\n",
        "Sample1_2DistPlot.axvline(43.888889, color='red')"
      ],
      "execution_count": 0,
      "outputs": [
        {
          "output_type": "execute_result",
          "data": {
            "text/plain": [
              "<matplotlib.lines.Line2D at 0x7fbc7833c438>"
            ]
          },
          "metadata": {
            "tags": []
          },
          "execution_count": 34
        },
        {
          "output_type": "display_data",
          "data": {
            "image/png": "[encoded data removed]",
            "text/plain": [
              "<Figure size 432x288 with 1 Axes>"
            ]
          },
          "metadata": {
            "tags": []
          }
        }
      ]
    },
    {
      "cell_type": "code",
      "metadata": {
        "id": "dbSB9PHfMFFd",
        "colab_type": "code",
        "outputId": "eaf3b60e-b33f-4e57-ec62-a539f452c551",
        "colab": {
          "base_uri": "https://localhost:8080/",
          "height": 312
        }
      },
      "source": [
        "Sample1Scatter = sns.regplot(sample18to35['Age'], sample18to35['SpendingScore'], color='blue')\n",
        "Sample1Scatter.set_title(\"Sample 18-35 Age vs. Spending Score\")"
      ],
      "execution_count": 0,
      "outputs": [
        {
          "output_type": "execute_result",
          "data": {
            "text/plain": [
              "Text(0.5, 1.0, 'Sample 18-35 Age vs. Spending Score')"
            ]
          },
          "metadata": {
            "tags": []
          },
          "execution_count": 45
        },
        {
          "output_type": "display_data",
          "data": {
            "image/png": "[encoded data removed]",
            "text/plain": [
              "<Figure size 432x288 with 1 Axes>"
            ]
          },
          "metadata": {
            "tags": []
          }
        }
      ]
    },
    {
      "cell_type": "code",
      "metadata": {
        "id": "HrS5Yc0JQ_4i",
        "colab_type": "code",
        "outputId": "3c9d3916-0f99-4698-8b03-d2b83001d0f6",
        "colab": {
          "base_uri": "https://localhost:8080/",
          "height": 312
        }
      },
      "source": [
        "Sample2Scatter = sns.regplot(sample35to52['Age'], sample35to52['SpendingScore'], color='red')\n",
        "Sample2Scatter.set_title(\"Sample 35-52 Age vs. Spending Score\")"
      ],
      "execution_count": 0,
      "outputs": [
        {
          "output_type": "execute_result",
          "data": {
            "text/plain": [
              "Text(0.5, 1.0, 'Sample 35-52 Age vs. Spending Score')"
            ]
          },
          "metadata": {
            "tags": []
          },
          "execution_count": 46
        },
        {
          "output_type": "display_data",
          "data": {
            "image/png": "[encoded data removed]",
            "text/plain": [
              "<Figure size 432x288 with 1 Axes>"
            ]
          },
          "metadata": {
            "tags": []
          }
        }
      ]
    },
    {
      "cell_type": "markdown",
      "metadata": {
        "id": "DoZu_T8FMq0t",
        "colab_type": "text"
      },
      "source": [
        "**ANOVA Test**"
      ]
    },
    {
      "cell_type": "code",
      "metadata": {
        "id": "UvI4uKLZMvbE",
        "colab_type": "code",
        "colab": {}
      },
      "source": [
        "sample18to35 = sample18to35.drop(['Gender', 'CustomerID', 'Age', 'AnnualIncome'], axis=1)\n",
        "sample35to52 = sample35to52.drop(['Gender', 'CustomerID', 'Age', 'AnnualIncome'], axis=1)\n",
        "OneWayAnovaTestSpendingCoeff = stats.f_oneway(sample18to35, sample35to52)\n",
        "OneWayAnovaTestSpendingCoeff"
      ],
      "execution_count": 0,
      "outputs": []
    },
    {
      "cell_type": "markdown",
      "metadata": {
        "id": "ZwTbHfMXTByd",
        "colab_type": "text"
      },
      "source": [
        "**CONCLUSION OF ANOVA TEST**\n",
        "\n",
        "1.  Alpha Level chosen is 0.05\n",
        "2. P-Value calculated is 0.00101695\n",
        "3. Because P-value calculated was less than the Alpha Level, we reject the null hypothesis\n",
        "4. In other words, the age group (18-35 and 35-52) does make a statistically significant difference on the spending score \n"
      ]
    },
    {
      "cell_type": "markdown",
      "metadata": {
        "id": "SD19_uE624e4",
        "colab_type": "text"
      },
      "source": [
        "# Two-Way ANOVA Test"
      ]
    },
    {
      "cell_type": "markdown",
      "metadata": {
        "id": "n6GqkGLZ29SV",
        "colab_type": "text"
      },
      "source": [
        "**IMPORTING PACKAGES**\n",
        "\n",
        "install.packages(\"dplyr\")\n",
        "\n",
        "install.packages(\"ggpubr\")\n",
        "\n",
        "library(ggpubr)\n",
        "\n",
        "library(dplyr)\n",
        "\n",
        "library(ggplot2)\n",
        "\n",
        "\n",
        "**READING AND EDITING DATA**\n",
        "\n",
        "mallData <- read.csv(\"Mall_Customers.csv\", header = TRUE)\n",
        "\n",
        "mallData <- select(mallData,-c(CustomerID,Gender))\n",
        "\n",
        "names(mallData) <- c(\"Age\", \"AnnualIncome\", \"SpendingScore\")\n",
        "\n",
        "mallData\n",
        "\n",
        "**MAKING AGE RANGE COLUMN**\n",
        "\n",
        "ageRangeList2 <- c(0,0,0,0,0,0,1,0,2,0,2,1,2,0,1,0,1,0,2,1,1,0,1,0,2,0,1,1,1,0,2,0,2,0,1,\n",
        "                   0,1,2,0,1,1,2,1,0,2,2,1,2,1,0,2,1,2,1,2,0,1,1,1,2,1,2,1,2,1,0,2,0,2,1,\n",
        "                   0,0,0,0,2,2,2,1,0,2,0,1,2,1,0,2,0,0,0,0,1,2,1,0,2,1,2,1,0,2,1,2,1,2,1,\n",
        "                   1,2,1,2,1,1,1,1,0,0,0,2,1,2,1,2,1,2,0,2,1,2,0,0,1,1,2,1,0,1,0,0,2,1,2,\n",
        "                   0,2,1,2,1,0,0,0,2,1,2,1,2,2,2,2,1,1,2,1,0,0,0,0,2,1,2,0,0,2,1,2,0,1,2,\n",
        "                   1,2,1,2,1,2,2,2,0,0,0,1,2,1,0,2,2,1,2,0,1,0,2,0,1)\n",
        "\n",
        "**ADDING AGE RANGE COLUMN TO DATA**\n",
        "\n",
        "mallData$AgeRange <- ageRangeList2\n",
        "\n",
        "**PLOTTING DATA**\n",
        "\n",
        "ggplot(mallData, aes(x=AnnualIncome, y=SpendingScore, color=AgeRange)) + geom_point(shape=2)\n",
        "\n",
        "**RUNNING 2-Way ANOVA Test**\n",
        "res.aov2 <- aov(SpendingScore ~ AgeRange + AnnualIncome, data = mallData)\n",
        "summary(res.aov2)"
      ]
    },
    {
      "cell_type": "markdown",
      "metadata": {
        "id": "MKdMVIXc-scV",
        "colab_type": "text"
      },
      "source": [
        ""
      ]
    }
  ]
}